{
 "cells": [
  {
   "cell_type": "code",
   "execution_count": 1,
   "metadata": {
    "collapsed": true
   },
   "outputs": [],
   "source": [
    "import requests\n",
    "import pandas as pd\n",
    "import numpy as np\n",
    "from bs4 import BeautifulSoup, Comment"
   ]
  },
  {
   "cell_type": "code",
   "execution_count": 2,
   "metadata": {
    "collapsed": true
   },
   "outputs": [],
   "source": [
    "def get_html_data(url):\n",
    "    page = requests.get(url)\n",
    "    return page"
   ]
  },
  {
   "cell_type": "code",
   "execution_count": 3,
   "metadata": {
    "collapsed": true
   },
   "outputs": [],
   "source": [
    "link = \"https://www.pro-football-reference.com/years/\"\n",
    "years = [\"2000\", \"2001\", \"2002\", \"2003\", \"2004\", \"2005\", \"2006\", \"2007\", \"2008\", \"2009\", \"2010\", \"2011\", \"2012\", \"2013\", \"2014\", \"2015\", \"2016\", \"2017\"]\n",
    "years_SO1 = [\"2015\", \"2016\", \"2017\"]\n",
    "years_SO2 = [\"2000\", \"2001\", \"2002\", \"2003\", \"2004\", \"2005\", \"2006\", \"2007\", \"2008\", \"2009\", \"2010\", \"2011\", \"2012\", \"2013\", \"2014\"]\n",
    "Team_Offense = [\"Team\", \"Games_Played\", \"Points_Scored\", \"Yards\", \"Off_Plays\", \"Yards_per_OffPlay\", \"Turnover_Losts\", \"Fumble_Lost\", \"First_Down\", \"Pass_Complete\", \"Pass_Attempt\", \"Pass_Yards\", \"Pass_TD\", \"Inter_Thrown\", \"Yards_Gain_per_Pass_Attempt\", \"Pass_First_Down\", \"Rush_Attempts\", \"Rush_Yards\", \"Rush_TD\", \"Yards_Gain_Per_Rush\", \"Rush_First_Down\", \"Penalties_Commited\", \"Penalties_Yards\", \"Penalties_First_Down\", \"Per_Off_Score\", \"Per_Off_Turnover\", \"Expected_Points\"]\n",
    "Passing_Offense = [\"Team\", \"Games_Played\", \"Passes_Complete\", \"Passes_Attempt\", \"Pers_Pass_Complete\", \"Yards_Passes\", \"Pass_TD\", \"Pers_TD_Attempt_Pass\", \"Interc_Thrown\", \"Pers_Interc_Attempt_Pass\", \"Longest_Pass_Complete\", \"Yards_per_Pass_Attempt\", \"Adj_Yards_per_Pass_Attempt\", \"Yards_per_Pass_Complete\", \"Yards_per_Game\", \"QB_Rate\", \"Times_Sacked\", \"Yards_Lost_Sacks\", \"Net_Yards_Gain_Pass_Attempt\", \"Adj_Net_Yards_Gain_Pass_Attempt\", \"Pers_Sacks_Attempt_Pass\", \"Comebacks_by_QB\", \"Win_Drive_by_QB\", \"Expect_Points_Pass_Offense\"]\n",
    "Rushing_Offense = [\"Team\", \"Games_Played\", \"Rush_Attmepts\", \"Yards_Rush\", \"Rush_TD\", \"Longest_Rush\", \"Yards_per_Attempt_Rush\", \"Rush_Yards_per_Game\", \"Number_Fumbles\", \"Expect_Points_Rush_Offense\"]\n",
    "Kick_Punt_Return = [\"Team\", \"Games_Played\", \"Punt_Return\", \"Punt_Yardage\", \"Punt_Return_TD\", \"Longest_Punt_Return\", \"Yards_per_Punt_Return\", \"Kickoff_Return\", \"Kickoff_Yardage\", \"Kickoff_Return_TD\", \"Longest_Kickoff_Return\", \"Yards_per_Kickoff_Return\", \"All_Purpose_Yards\"]\n",
    "Kicking_Punting = [\"Team\", \"Games_Played\", \"FGA_0_19\", \"FGM_0_19\", \"FGA_20_29\", \"FGM_20_29\", \"FGA_30_39\", \"FGM_30_39\", \"FGA_40_49\", \"FGM_40_49\", \"FGA_50_\", \"FGM_50_\", \"FGA\", \"FGM\", \"FG_Perc\", \"Extra_Point_Attempt\", \"Extra_Point_Made\", \"Extra_Point_Perc\", \"Times_Punted\", \"Punt_Yardage\", \"Longest_Punt\", \"Times_Punt_Bloacked\", \"Yards_per_Punt\"]\n",
    "Scoring_Offense_2014 = [\"Team\", \"Games_Played\", \"RshTD\", \"RecTD\", \"PR_TD\", \"KR_TD\", \"FblTD\", \"IntTD\", \"Other_TD\", \"All_TD\", \"2_Point_Conv_Made\", \"2_Point_Conv_Attmept\", \"Extra_Point_Made\", \"Extra_Point_Attempt\", \"FGM\", \"FGA\", \"Safties_Team\", \"Total_Points\", \"Point_per_Game\"]\n",
    "Scoring_Offense_2015_2017 = [\"Team\", \"Games_Played\", \"RshTD\", \"RecTD\", \"PR_TD\", \"KR_TD\", \"FblTD\", \"IntTD\", \"Other_TD\", \"All_TD\", \"2_Point_Conv_Made\", \"2_Point_Conv_Attmept\", \"Defence_2_Point_Conv\", \"Extra_Point_Made\", \"Extra_Point_Attempt\", \"FGM\", \"FGA\", \"Safties_Team\", \"Total_Points\", \"Point_per_Game\"]\n",
    "Conversions = [\"Team\", \"Games_Played\", \"3_Down_Attempts\", \"3_Down_Conv\", \"3_Down_Conv_Perc\", \"4_Down_Attempts\", \"4_Down_Conv\", \"4_Down_Conv_Perc\", \"Red_Zone_Attempt\", \"Red_Zone_Score\", \"Red_Zone_Score_Perc\"]\n",
    "Drive_Average = [\"Team\", \"Games_Played\", \"Num_Drives\", \"Playes_Drive\", \"Perc_Drive_Off_Score\", \"Perc_Drive_Off_Turnover\", \"Avg_Plays_per_Drive\", \"Yards_per_Drive\", \"Avg_Start_Pos\", \"Avg_Time_Drive\", \"Avg_Points_per_Drive\"]"
   ]
  },
  {
   "cell_type": "code",
   "execution_count": 4,
   "metadata": {
    "collapsed": true
   },
   "outputs": [],
   "source": [
    "def get_teams_data(page):\n",
    "    x = BeautifulSoup(page.content, \"html.parser\")\n",
    "    z = x.find(\"div\", {\"id\":\"site_menu\"})\n",
    "    t = z.find_all(\"li\")\n",
    "    teams = t[2].find_all(\"a\")\n",
    "    return teams"
   ]
  },
  {
   "cell_type": "code",
   "execution_count": 5,
   "metadata": {
    "collapsed": true
   },
   "outputs": [],
   "source": [
    "def extract_teams(teams):\n",
    "    link = [t1.attrs['href'].split(\"/\") for t1 in teams]\n",
    "    del link[0]\n",
    "    team = [t2.get_text() for t2 in teams]\n",
    "    del team[0]\n",
    "    link1 = [l[1] for l in link]\n",
    "    link2 = [l[2] for l in link]\n",
    "    link3 = [l[3] for l in link]\n",
    "    team_data = pd.DataFrame({\n",
    "                \"Team\": team,\n",
    "                \"Link1\": link1,\n",
    "                \"Link2\": link2,\n",
    "                \"Link3\": link3})\n",
    "    return team_data"
   ]
  },
  {
   "cell_type": "code",
   "execution_count": 6,
   "metadata": {
    "collapsed": true
   },
   "outputs": [],
   "source": [
    "def extract_html_data(page, div_id):\n",
    "    x = BeautifulSoup(page.content, \"html.parser\")\n",
    "    y = x.find(\"div\", {\"id\": \"content\"})\n",
    "    z = y.find(\"div\", {\"id\": div_id})\n",
    "    return z"
   ]
  },
  {
   "cell_type": "code",
   "execution_count": 7,
   "metadata": {
    "collapsed": true
   },
   "outputs": [],
   "source": [
    "def extract_table_data(div_data, tab_name):\n",
    "    comments = div_data.findAll(text=lambda text:isinstance(text, Comment))\n",
    "    x = comments[0].extract()\n",
    "    y = BeautifulSoup(x, \"html.parser\")\n",
    "    table = y.find(\"table\", {\"id\": tab_name})\n",
    "    return table"
   ]
  },
  {
   "cell_type": "code",
   "execution_count": 8,
   "metadata": {
    "collapsed": true
   },
   "outputs": [],
   "source": [
    "def extract_team_offense(table_data):\n",
    "    tbody = table_data.find(\"tbody\")\n",
    "    tr = tbody.find_all(\"tr\")\n",
    "    data = pd.DataFrame(columns=Team_Offense)\n",
    "    for row in tr:\n",
    "        td = row.find_all(\"td\")\n",
    "        c = [col.get_text() for col in td]\n",
    "        df = pd.DataFrame(np.array(c).reshape(1,27), columns=Team_Offense)\n",
    "        data = data.append(df)\n",
    "    return data"
   ]
  },
  {
   "cell_type": "code",
   "execution_count": 13,
   "metadata": {
    "collapsed": true
   },
   "outputs": [],
   "source": [
    "def extract_team_data(table_data, cols):\n",
    "    tbody = table_data.find(\"tbody\")\n",
    "    tr = tbody.find_all(\"tr\")\n",
    "    data = pd.DataFrame(columns=cols)\n",
    "    for row in tr:\n",
    "        td = row.find_all(\"td\")\n",
    "        c = [col.get_text() for col in td]\n",
    "        df = pd.DataFrame(np.array(c).reshape(1,len(cols)), columns=cols)\n",
    "        data = data.append(df)\n",
    "    return data"
   ]
  },
  {
   "cell_type": "code",
   "execution_count": 10,
   "metadata": {
    "collapsed": true
   },
   "outputs": [],
   "source": [
    "def final_data(cols, content, tab):\n",
    "    data = pd.DataFrame(columns=cols)\n",
    "    data[\"Year\"] = \"\"\n",
    "    for year in years:\n",
    "        url = link + year + \"/\"\n",
    "        page = get_html_data(url)\n",
    "        div_data = extract_html_data(page, content)\n",
    "        table_data = extract_table_data(div_data, tab)\n",
    "        table = extract_team_data(table_data, cols)\n",
    "        table[\"Year\"] = year\n",
    "        data = data.append(table)\n",
    "        \n",
    "    data = data.reset_index()\n",
    "    data = data.drop([\"index\"], axis=1)\n",
    "    return data"
   ]
  },
  {
   "cell_type": "code",
   "execution_count": null,
   "metadata": {
    "collapsed": true
   },
   "outputs": [],
   "source": [
    "\"\"\"Team_Offense_Data = pd.DataFrame(columns=Team_Offense)\n",
    "Team_Offense_Data[\"Year\"] = \"\"\n",
    "for year in years:\n",
    "    url = link + year + \"/\"\n",
    "    page = get_html_data(url)\n",
    "    div_data = extract_html_data(page, \"all_passing\")\n",
    "    table_data = extract_table_data(div_data, \"passing\")\n",
    "    table = extract_team_data(table_data, Team_Offense)\n",
    "    table[\"Year\"] = year\n",
    "    Team_Offense_Data = Team_Offense_Data.append(table)\"\"\""
   ]
  },
  {
   "cell_type": "code",
   "execution_count": 11,
   "metadata": {
    "collapsed": true
   },
   "outputs": [],
   "source": [
    "Team_Offense_Data = final_data(Team_Offense, \"all_team_stats\", \"team_stats\")\n",
    "Team_Offense_Data.to_csv(\"Team_Offense.csv\")"
   ]
  },
  {
   "cell_type": "code",
   "execution_count": 14,
   "metadata": {
    "collapsed": true
   },
   "outputs": [],
   "source": [
    "Passing_Offense_Data = final_data(Passing_Offense, \"all_passing\", \"passing\")\n",
    "Passing_Offense_Data.to_csv(\"Passing_Offense.csv\")"
   ]
  },
  {
   "cell_type": "code",
   "execution_count": 15,
   "metadata": {
    "collapsed": true
   },
   "outputs": [],
   "source": [
    "Rushing_Offense_Data = final_data(Rushing_Offense, \"all_rushing\", \"rushing\")\n",
    "Rushing_Offense_Data.to_csv(\"Rushing_Offense.csv\")"
   ]
  },
  {
   "cell_type": "code",
   "execution_count": 16,
   "metadata": {
    "collapsed": true
   },
   "outputs": [],
   "source": [
    "Kick_Punt_Return_Data = final_data(Kick_Punt_Return, \"all_returns\", \"returns\")\n",
    "Kick_Punt_Return_Data.to_csv(\"Kick_Punt_Return.csv\")"
   ]
  },
  {
   "cell_type": "code",
   "execution_count": 17,
   "metadata": {
    "collapsed": true
   },
   "outputs": [],
   "source": [
    "Kicking_Punting_Data = final_data(Kicking_Punting, \"all_kicking\", \"kicking\")\n",
    "Kicking_Punting_Data.to_csv(\"Kicking_Punting.csv\")"
   ]
  },
  {
   "cell_type": "code",
   "execution_count": 18,
   "metadata": {},
   "outputs": [
    {
     "ename": "ValueError",
     "evalue": "cannot reshape array of size 19 into shape (1,20)",
     "output_type": "error",
     "traceback": [
      "\u001b[1;31m---------------------------------------------------------------------------\u001b[0m",
      "\u001b[1;31mValueError\u001b[0m                                Traceback (most recent call last)",
      "\u001b[1;32m<ipython-input-18-c9b93912f691>\u001b[0m in \u001b[0;36m<module>\u001b[1;34m()\u001b[0m\n\u001b[1;32m----> 1\u001b[1;33m \u001b[0mScoring_Offense_Data\u001b[0m \u001b[1;33m=\u001b[0m \u001b[0mfinal_data\u001b[0m\u001b[1;33m(\u001b[0m\u001b[0mScoring_Offense\u001b[0m\u001b[1;33m,\u001b[0m \u001b[1;34m\"all_team_scoring\"\u001b[0m\u001b[1;33m,\u001b[0m \u001b[1;34m\"team_scoring\"\u001b[0m\u001b[1;33m)\u001b[0m\u001b[1;33m\u001b[0m\u001b[0m\n\u001b[0m\u001b[0;32m      2\u001b[0m \u001b[0mScoring_Offense_Data\u001b[0m\u001b[1;33m.\u001b[0m\u001b[0mto_csv\u001b[0m\u001b[1;33m(\u001b[0m\u001b[1;34m\"Scoring_Offense.csv\"\u001b[0m\u001b[1;33m)\u001b[0m\u001b[1;33m\u001b[0m\u001b[0m\n",
      "\u001b[1;32m<ipython-input-10-f1b87f517beb>\u001b[0m in \u001b[0;36mfinal_data\u001b[1;34m(cols, content, tab)\u001b[0m\n\u001b[0;32m      7\u001b[0m         \u001b[0mdiv_data\u001b[0m \u001b[1;33m=\u001b[0m \u001b[0mextract_html_data\u001b[0m\u001b[1;33m(\u001b[0m\u001b[0mpage\u001b[0m\u001b[1;33m,\u001b[0m \u001b[0mcontent\u001b[0m\u001b[1;33m)\u001b[0m\u001b[1;33m\u001b[0m\u001b[0m\n\u001b[0;32m      8\u001b[0m         \u001b[0mtable_data\u001b[0m \u001b[1;33m=\u001b[0m \u001b[0mextract_table_data\u001b[0m\u001b[1;33m(\u001b[0m\u001b[0mdiv_data\u001b[0m\u001b[1;33m,\u001b[0m \u001b[0mtab\u001b[0m\u001b[1;33m)\u001b[0m\u001b[1;33m\u001b[0m\u001b[0m\n\u001b[1;32m----> 9\u001b[1;33m         \u001b[0mtable\u001b[0m \u001b[1;33m=\u001b[0m \u001b[0mextract_team_data\u001b[0m\u001b[1;33m(\u001b[0m\u001b[0mtable_data\u001b[0m\u001b[1;33m,\u001b[0m \u001b[0mcols\u001b[0m\u001b[1;33m)\u001b[0m\u001b[1;33m\u001b[0m\u001b[0m\n\u001b[0m\u001b[0;32m     10\u001b[0m         \u001b[0mtable\u001b[0m\u001b[1;33m[\u001b[0m\u001b[1;34m\"Year\"\u001b[0m\u001b[1;33m]\u001b[0m \u001b[1;33m=\u001b[0m \u001b[0myear\u001b[0m\u001b[1;33m\u001b[0m\u001b[0m\n\u001b[0;32m     11\u001b[0m         \u001b[0mdata\u001b[0m \u001b[1;33m=\u001b[0m \u001b[0mdata\u001b[0m\u001b[1;33m.\u001b[0m\u001b[0mappend\u001b[0m\u001b[1;33m(\u001b[0m\u001b[0mtable\u001b[0m\u001b[1;33m)\u001b[0m\u001b[1;33m\u001b[0m\u001b[0m\n",
      "\u001b[1;32m<ipython-input-13-d0c44f97b464>\u001b[0m in \u001b[0;36mextract_team_data\u001b[1;34m(table_data, cols)\u001b[0m\n\u001b[0;32m      6\u001b[0m         \u001b[0mtd\u001b[0m \u001b[1;33m=\u001b[0m \u001b[0mrow\u001b[0m\u001b[1;33m.\u001b[0m\u001b[0mfind_all\u001b[0m\u001b[1;33m(\u001b[0m\u001b[1;34m\"td\"\u001b[0m\u001b[1;33m)\u001b[0m\u001b[1;33m\u001b[0m\u001b[0m\n\u001b[0;32m      7\u001b[0m         \u001b[0mc\u001b[0m \u001b[1;33m=\u001b[0m \u001b[1;33m[\u001b[0m\u001b[0mcol\u001b[0m\u001b[1;33m.\u001b[0m\u001b[0mget_text\u001b[0m\u001b[1;33m(\u001b[0m\u001b[1;33m)\u001b[0m \u001b[1;32mfor\u001b[0m \u001b[0mcol\u001b[0m \u001b[1;32min\u001b[0m \u001b[0mtd\u001b[0m\u001b[1;33m]\u001b[0m\u001b[1;33m\u001b[0m\u001b[0m\n\u001b[1;32m----> 8\u001b[1;33m         \u001b[0mdf\u001b[0m \u001b[1;33m=\u001b[0m \u001b[0mpd\u001b[0m\u001b[1;33m.\u001b[0m\u001b[0mDataFrame\u001b[0m\u001b[1;33m(\u001b[0m\u001b[0mnp\u001b[0m\u001b[1;33m.\u001b[0m\u001b[0marray\u001b[0m\u001b[1;33m(\u001b[0m\u001b[0mc\u001b[0m\u001b[1;33m)\u001b[0m\u001b[1;33m.\u001b[0m\u001b[0mreshape\u001b[0m\u001b[1;33m(\u001b[0m\u001b[1;36m1\u001b[0m\u001b[1;33m,\u001b[0m\u001b[0mlen\u001b[0m\u001b[1;33m(\u001b[0m\u001b[0mcols\u001b[0m\u001b[1;33m)\u001b[0m\u001b[1;33m)\u001b[0m\u001b[1;33m,\u001b[0m \u001b[0mcolumns\u001b[0m\u001b[1;33m=\u001b[0m\u001b[0mcols\u001b[0m\u001b[1;33m)\u001b[0m\u001b[1;33m\u001b[0m\u001b[0m\n\u001b[0m\u001b[0;32m      9\u001b[0m         \u001b[0mdata\u001b[0m \u001b[1;33m=\u001b[0m \u001b[0mdata\u001b[0m\u001b[1;33m.\u001b[0m\u001b[0mappend\u001b[0m\u001b[1;33m(\u001b[0m\u001b[0mdf\u001b[0m\u001b[1;33m)\u001b[0m\u001b[1;33m\u001b[0m\u001b[0m\n\u001b[0;32m     10\u001b[0m     \u001b[1;32mreturn\u001b[0m \u001b[0mdata\u001b[0m\u001b[1;33m\u001b[0m\u001b[0m\n",
      "\u001b[1;31mValueError\u001b[0m: cannot reshape array of size 19 into shape (1,20)"
     ]
    }
   ],
   "source": [
    "Scoring_Offense_Data = final_data(Scoring_Offense, \"all_team_scoring\", \"team_scoring\")\n",
    "Scoring_Offense_Data.to_csv(\"Scoring_Offense.csv\")"
   ]
  },
  {
   "cell_type": "code",
   "execution_count": 19,
   "metadata": {
    "collapsed": true
   },
   "outputs": [],
   "source": [
    "Conversions_Data = final_data(Conversions, \"all_team_conversions\", \"team_conversions\")\n",
    "Conversions_Data.to_csv(\"Conversions.csv\")"
   ]
  },
  {
   "cell_type": "code",
   "execution_count": 20,
   "metadata": {
    "collapsed": true
   },
   "outputs": [],
   "source": [
    "Drive_Average_Data = final_data(Drive_Average, \"all_drives\", \"drives\")\n",
    "Drive_Average_Data.to_csv(\"Drive_Average.csv\")"
   ]
  }
 ],
 "metadata": {
  "kernelspec": {
   "display_name": "Python 3",
   "language": "python",
   "name": "python3"
  },
  "language_info": {
   "codemirror_mode": {
    "name": "ipython",
    "version": 3
   },
   "file_extension": ".py",
   "mimetype": "text/x-python",
   "name": "python",
   "nbconvert_exporter": "python",
   "pygments_lexer": "ipython3",
   "version": "3.6.3"
  }
 },
 "nbformat": 4,
 "nbformat_minor": 2
}
